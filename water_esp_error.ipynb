{
 "cells": [
  {
   "cell_type": "code",
   "execution_count": 1,
   "metadata": {},
   "outputs": [],
   "source": [
    "import os\n",
    "import matplotlib.pyplot as plt\n",
    "import pandas as pd\n",
    "\n",
    "path = \"h2o/h2o\"\n",
    "\n",
    "files = [x for x in os.listdir(path) if x.__contains__(\".out\")]\n",
    "equil = [x for x in os.listdir(path) if x.__contains__(\"equil\")]\n",
    "peturbed = [x for x in os.listdir(path) if x.__contains__(\"peturbed\")]\n",
    "\n",
    "\n",
    "\n",
    "\n"
   ]
  },
  {
   "cell_type": "code",
   "execution_count": 2,
   "metadata": {},
   "outputs": [
    {
     "data": {
      "image/png": "[encoded data removed]",
      "text/plain": [
       "<Figure size 432x288 with 1 Axes>"
      ]
     },
     "metadata": {
      "needs_background": "light"
     },
     "output_type": "display_data"
    }
   ],
   "source": [
    "data_dictionary = {}\n",
    "\n",
    "rmse_max = []\n",
    "rmse_max_close = []\n",
    "rmse_max_mid = []\n",
    "rmse_max_far = []\n",
    "\n",
    "for file in peturbed:\n",
    "    f = open(os.path.join(path, file)).readlines()\n",
    "    \n",
    "    for x in [f[-5]]:\n",
    "        rmse_max.append(float(x.split()[1]))\n",
    "        data_dictionary[file.split(\"_\")[1].split(\".\")[0]] = [float(x.split()[1])]\n",
    "    for x in [f[-4]]:\n",
    "        rmse_max_close.append(float(x.split()[8]))\n",
    "    for x in [f[-3]]:\n",
    "        rmse_max_mid.append(float(x.split()[7]))\n",
    "    for x in [f[-2]]:\n",
    "        rmse_max_far.append(float(x.split()[5]))\n",
    "        \n",
    "plt.hist(rmse_max)\n",
    "plt.xlabel(\"MaxError [kcal/mol/e]\")\n",
    "plt.ylabel(\"Count\")\n",
    "plt.title(\"Error associated with fitting multipoles\")\n",
    "plt.savefig(\"fitting_error.png\")"
   ]
  },
  {
   "cell_type": "code",
   "execution_count": 3,
   "metadata": {},
   "outputs": [
    {
     "name": "stdout",
     "output_type": "stream",
     "text": [
      "518\n"
     ]
    },
    {
     "data": {
      "image/png": "[encoded data removed]",
      "text/plain": [
       "<Figure size 432x288 with 1 Axes>"
      ]
     },
     "metadata": {
      "needs_background": "light"
     },
     "output_type": "display_data"
    }
   ],
   "source": [
    "rmse_max = []\n",
    "rmse_max_close = []\n",
    "rmse_max_mid = []\n",
    "rmse_max_far = []\n",
    "\n",
    "for file in equil:\n",
    "    f = open(os.path.join(path, file)).readlines()\n",
    "    if len(f) > 4 and f[-1].__contains__(\"Did analysis and wrote slice data\"):\n",
    "        for x in [f[-5]]:\n",
    "            rmse_max.append(float(x.split()[1]))\n",
    "            data_dictionary[file.split(\"_\")[1].split(\".\")[0]].append(float(x.split()[1]))\n",
    "        for x in [f[-4]]:\n",
    "            rmse_max_close.append(float(x.split()[8]))\n",
    "        for x in [f[-3]]:\n",
    "            rmse_max_mid.append(float(x.split()[7]))\n",
    "        for x in [f[-2]]:\n",
    "            rmse_max_far.append(float(x.split()[5]))\n",
    "print(len(rmse_max))        \n",
    "\n",
    "plt.hist(rmse_max)\n",
    "plt.xlabel(\"MaxError [kcal/mol/e]\")\n",
    "plt.ylabel(\"Count\")\n",
    "plt.title(\"Error associated with using equilibrium multipoles\")\n",
    "plt.savefig(\"conformer_error.png\")"
   ]
  },
  {
   "cell_type": "code",
   "execution_count": 5,
   "metadata": {},
   "outputs": [],
   "source": [
    "data = {}\n",
    "\n",
    "\n",
    "code = []\n",
    "fitting = []\n",
    "error = []\n",
    "\n",
    "\n",
    "\n",
    "keys = data_dictionary.keys()\n",
    "\n",
    "for key in keys:\n",
    "    if len(data_dictionary[key]) == 2:\n",
    "        data[key] = data_dictionary[key]\n",
    "        code.append(\"2{}\".format(key)) # appending a 2 to be consistent with the GDMA keys\n",
    "        fitting.append(data_dictionary[key][0])\n",
    "        error.append(data_dictionary[key][1])\n",
    "\n",
    "        \n",
    "        \n",
    "new_df = pd.DataFrame({\"key\": code, \"fitting_error\": fitting, \"conformational_error\": error})\n",
    "\n",
    "\n",
    "new_df.to_csv(\"water_esp_error.csv\", index=False)\n",
    "#data"
   ]
  },
  {
   "cell_type": "code",
   "execution_count": null,
   "metadata": {},
   "outputs": [],
   "source": []
  },
  {
   "cell_type": "code",
   "execution_count": null,
   "metadata": {},
   "outputs": [],
   "source": []
  },
  {
   "cell_type": "code",
   "execution_count": null,
   "metadata": {},
   "outputs": [],
   "source": []
  }
 ],
 "metadata": {
  "kernelspec": {
   "display_name": "Python 3",
   "language": "python",
   "name": "python3"
  },
  "language_info": {
   "codemirror_mode": {
    "name": "ipython",
    "version": 3
   },
   "file_extension": ".py",
   "mimetype": "text/x-python",
   "name": "python",
   "nbconvert_exporter": "python",
   "pygments_lexer": "ipython3",
   "version": "3.8.3"
  }
 },
 "nbformat": 4,
 "nbformat_minor": 4
}
